{
 "cells": [
  {
   "cell_type": "code",
   "execution_count": 3,
   "metadata": {
    "collapsed": false
   },
   "outputs": [
    {
     "name": "stdout",
     "output_type": "stream",
     "text": [
      "trump: 34800\n",
      "obama: 15235\n"
     ]
    }
   ],
   "source": [
    "import mediacloud, json, datetime\n",
    "from mediacloud_api_token import token\n",
    "\n",
    "#replace if needed\n",
    "token_string = token\n",
    "\n",
    "mc = mediacloud.api.MediaCloud(token_string)\n",
    "\n",
    "filter_set = [mc.publish_date_query(datetime.date(2015,8,1),datetime.date(2015,8,31)),'media_sets_id:1']\n",
    "\n",
    "\n",
    "trump = mc.sentenceCount('(Trump)',solr_filter=filter_set)\n",
    "obama = mc.sentenceCount('(Obama)',solr_filter=filter_set)\n",
    "\n",
    "\n",
    "print 'trump: '+str(trump['count'])\n",
    "print 'obama: '+str(obama['count'])\n"
   ]
  },
  {
   "cell_type": "code",
   "execution_count": null,
   "metadata": {
    "collapsed": true
   },
   "outputs": [],
   "source": []
  }
 ],
 "metadata": {
  "kernelspec": {
   "display_name": "Python 2",
   "language": "python",
   "name": "python2"
  },
  "language_info": {
   "codemirror_mode": {
    "name": "ipython",
    "version": 2
   },
   "file_extension": ".py",
   "mimetype": "text/x-python",
   "name": "python",
   "nbconvert_exporter": "python",
   "pygments_lexer": "ipython2",
   "version": "2.7.6"
  }
 },
 "nbformat": 4,
 "nbformat_minor": 0
}
